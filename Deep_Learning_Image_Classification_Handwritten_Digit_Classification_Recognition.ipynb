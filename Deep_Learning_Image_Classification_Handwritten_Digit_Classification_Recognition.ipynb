{
  "nbformat": 4,
  "nbformat_minor": 0,
  "metadata": {
    "colab": {
      "name": "Deep Learning-Image Classification-Handwritten Digit Classification Recognition.ipynb",
      "provenance": [],
      "collapsed_sections": []
    },
    "kernelspec": {
      "name": "python3",
      "display_name": "Python 3"
    }
  },
  "cells": [
    {
      "cell_type": "markdown",
      "metadata": {
        "id": "su2mwTWTNQVk",
        "colab_type": "text"
      },
      "source": [
        "#Machine Learning->Statistical Information or Formulas used to create model.\n",
        "#whereas,\n",
        "#Deep Learning->Artificial Neural Networks are used to create model\n",
        "###Everything else other than model creation is same in between ML mand DL, the main purpose being to predict anything from data after training the model, we get a function that can be used to predict anything."
      ]
    },
    {
      "cell_type": "markdown",
      "metadata": {
        "id": "dEtP3Uc4Orsr",
        "colab_type": "text"
      },
      "source": [
        "###Regression is used for continuous data, whereas Classification is used to choose from different classes."
      ]
    },
    {
      "cell_type": "markdown",
      "metadata": {
        "id": "mXPiDKM9PEEH",
        "colab_type": "text"
      },
      "source": [
        "#Artificial Neural Network(ANN)"
      ]
    },
    {
      "cell_type": "markdown",
      "metadata": {
        "id": "4-41M_kHRld2",
        "colab_type": "text"
      },
      "source": [
        "###Images, sound clips and videos are highly non linear. \n",
        "###To increase the non-linearity we use activation functions like Sigmoid/relu/Softmax\n",
        "###Relu is the most popular and is mostly used activation function.\n"
      ]
    },
    {
      "cell_type": "markdown",
      "metadata": {
        "id": "cZw1b1FDSO6A",
        "colab_type": "text"
      },
      "source": [
        "###All the inputs have a corresponding weight associated with it. \n",
        "###First part of neuron is to multiply the inputs of the previous neuron with weights i.e.,find a=x1w1 + x2w2+.....\n",
        "###Another task is Activation Function, that is used to increase the non-linearity."
      ]
    },
    {
      "cell_type": "markdown",
      "metadata": {
        "id": "BQhfcEYgTYZL",
        "colab_type": "text"
      },
      "source": [
        "###Deep Learning:\n",
        "###Forward Propagation\n",
        "###Back Propagation/Updation(As we update the weight here)"
      ]
    },
    {
      "cell_type": "markdown",
      "metadata": {
        "id": "QWo3dPoCToW1",
        "colab_type": "text"
      },
      "source": [
        "###To deal with non linear data we have to increase non linearity in our data to make it more complex."
      ]
    },
    {
      "cell_type": "markdown",
      "metadata": {
        "id": "2LGQasMpUrBP",
        "colab_type": "text"
      },
      "source": [
        "###Tensorflow is quite complex, so keras can be used as a high level option for it.\n",
        "###Tensorflow is a deep learning package/library."
      ]
    },
    {
      "cell_type": "markdown",
      "metadata": {
        "id": "qy7kjI-SVAP_",
        "colab_type": "text"
      },
      "source": [
        "###Colab gives us Free GPU->Graphic Processing Unit, GPU's are faster than CPU.\n",
        "###All the libraries are pre-installed."
      ]
    },
    {
      "cell_type": "markdown",
      "metadata": {
        "id": "_eJqKM-iVb9Z",
        "colab_type": "text"
      },
      "source": [
        "#Image Classification "
      ]
    },
    {
      "cell_type": "markdown",
      "metadata": {
        "id": "G3-XNQYjVkI7",
        "colab_type": "text"
      },
      "source": [
        "###MNISTN is a very popular dataset for Image Classification.\n",
        "###It has 20X20 dataset.\n",
        "###Each image is a grey scale."
      ]
    },
    {
      "cell_type": "code",
      "metadata": {
        "id": "2exodTeZV9Oz",
        "colab_type": "code",
        "colab": {}
      },
      "source": [
        "import numpy as np\n",
        "import matplotlib.pyplot as plt\n",
        "\n",
        "import keras\n",
        "from keras.datasets import mnist"
      ],
      "execution_count": 0,
      "outputs": []
    },
    {
      "cell_type": "code",
      "metadata": {
        "id": "7okqHnQwWQyn",
        "colab_type": "code",
        "colab": {
          "base_uri": "https://localhost:8080/",
          "height": 50
        },
        "outputId": "6d822ef9-4eaa-4ed6-9783-ce5935db5455"
      },
      "source": [
        "(x_train, y_train), (x_test, y_test) = mnist.load_data()"
      ],
      "execution_count": 6,
      "outputs": [
        {
          "output_type": "stream",
          "text": [
            "Downloading data from https://s3.amazonaws.com/img-datasets/mnist.npz\n",
            "11493376/11490434 [==============================] - 1s 0us/step\n"
          ],
          "name": "stdout"
        }
      ]
    },
    {
      "cell_type": "code",
      "metadata": {
        "id": "EUQ22GoWWlqb",
        "colab_type": "code",
        "colab": {
          "base_uri": "https://localhost:8080/",
          "height": 34
        },
        "outputId": "a25953fd-f862-42fc-d62d-6271641f8cb4"
      },
      "source": [
        "x_train.shape"
      ],
      "execution_count": 7,
      "outputs": [
        {
          "output_type": "execute_result",
          "data": {
            "text/plain": [
              "(60000, 28, 28)"
            ]
          },
          "metadata": {
            "tags": []
          },
          "execution_count": 7
        }
      ]
    },
    {
      "cell_type": "code",
      "metadata": {
        "id": "HxFyBXqxW0QF",
        "colab_type": "code",
        "colab": {}
      },
      "source": [
        "#We have 60000 images in x_train of 28X28"
      ],
      "execution_count": 0,
      "outputs": []
    },
    {
      "cell_type": "code",
      "metadata": {
        "id": "k4DeTfbfW_me",
        "colab_type": "code",
        "colab": {
          "base_uri": "https://localhost:8080/",
          "height": 34
        },
        "outputId": "8fd1a898-5143-40f3-c441-113b69e7ed67"
      },
      "source": [
        "x_test.shape"
      ],
      "execution_count": 9,
      "outputs": [
        {
          "output_type": "execute_result",
          "data": {
            "text/plain": [
              "(10000, 28, 28)"
            ]
          },
          "metadata": {
            "tags": []
          },
          "execution_count": 9
        }
      ]
    },
    {
      "cell_type": "code",
      "metadata": {
        "id": "FlXqqAa1XBbU",
        "colab_type": "code",
        "colab": {}
      },
      "source": [
        "#As it is a greyscale it reads only 28X28\n",
        "#In case of coloured or RGB(Red Green Blue) image it would have been 28X28X3, but the last part is ignored here as it is a black-white or greyscale image."
      ],
      "execution_count": 0,
      "outputs": []
    },
    {
      "cell_type": "code",
      "metadata": {
        "id": "mVhJgkkqXaYc",
        "colab_type": "code",
        "colab": {
          "base_uri": "https://localhost:8080/",
          "height": 34
        },
        "outputId": "4a838d9a-be64-403e-c622-f9deaccda912"
      },
      "source": [
        "y_train.shape"
      ],
      "execution_count": 11,
      "outputs": [
        {
          "output_type": "execute_result",
          "data": {
            "text/plain": [
              "(60000,)"
            ]
          },
          "metadata": {
            "tags": []
          },
          "execution_count": 11
        }
      ]
    },
    {
      "cell_type": "code",
      "metadata": {
        "id": "BcWgZ8IhXcJD",
        "colab_type": "code",
        "colab": {
          "base_uri": "https://localhost:8080/",
          "height": 34
        },
        "outputId": "61d14c78-acd9-4515-e573-36f819a4c728"
      },
      "source": [
        "y_test.shape"
      ],
      "execution_count": 12,
      "outputs": [
        {
          "output_type": "execute_result",
          "data": {
            "text/plain": [
              "(10000,)"
            ]
          },
          "metadata": {
            "tags": []
          },
          "execution_count": 12
        }
      ]
    },
    {
      "cell_type": "code",
      "metadata": {
        "id": "3k0o3zMNXdca",
        "colab_type": "code",
        "colab": {}
      },
      "source": [
        "#So is the case for y_train and y_test as it only contains the number for all the images in x_train and x_shape where as they themselve contains the images also."
      ],
      "execution_count": 0,
      "outputs": []
    },
    {
      "cell_type": "code",
      "metadata": {
        "id": "N8jQXY2HXwWl",
        "colab_type": "code",
        "colab": {}
      },
      "source": [
        "def plot_img(img):\n",
        "    plt.imshow(img.reshape(28,28), cmap=\"gray\");#cmap is used for mapping scheme"
      ],
      "execution_count": 0,
      "outputs": []
    },
    {
      "cell_type": "code",
      "metadata": {
        "id": "h9ETc1luX88B",
        "colab_type": "code",
        "colab": {
          "base_uri": "https://localhost:8080/",
          "height": 282
        },
        "outputId": "38fac5e2-6839-42fe-fb5f-290b60ee2ad8"
      },
      "source": [
        "plot_img(x_train[1002])\n",
        "print(\"Image is : \", y_train[1002])"
      ],
      "execution_count": 25,
      "outputs": [
        {
          "output_type": "stream",
          "text": [
            "Image is :  1\n"
          ],
          "name": "stdout"
        },
        {
          "output_type": "display_data",
          "data": {
            "image/png": "[encoded data removed]",
            "text/plain": [
              "<Figure size 432x288 with 1 Axes>"
            ]
          },
          "metadata": {
            "tags": [],
            "needs_background": "light"
          }
        }
      ]
    },
    {
      "cell_type": "markdown",
      "metadata": {
        "id": "EQmK9HpZY0uI",
        "colab_type": "text"
      },
      "source": [
        "#Model Building"
      ]
    },
    {
      "cell_type": "code",
      "metadata": {
        "id": "0wyHzOfUY28m",
        "colab_type": "code",
        "colab": {}
      },
      "source": [
        "#Create 5 layer Neural Network."
      ],
      "execution_count": 0,
      "outputs": []
    },
    {
      "cell_type": "code",
      "metadata": {
        "id": "K-Ts4wNXY87O",
        "colab_type": "code",
        "colab": {}
      },
      "source": [
        "#Hyperparameter->the parameter that we have to define."
      ],
      "execution_count": 0,
      "outputs": []
    },
    {
      "cell_type": "code",
      "metadata": {
        "id": "ksj5ANyaZGkY",
        "colab_type": "code",
        "colab": {}
      },
      "source": [
        "#Output layer no. of neurons = Unique classx_train[6878].shape"
      ],
      "execution_count": 0,
      "outputs": []
    },
    {
      "cell_type": "code",
      "metadata": {
        "id": "14obXd--ZnGd",
        "colab_type": "code",
        "colab": {}
      },
      "source": [
        "#Input layer number of neurons = no. of features."
      ],
      "execution_count": 0,
      "outputs": []
    },
    {
      "cell_type": "code",
      "metadata": {
        "id": "4WSUyTVDZ_ZQ",
        "colab_type": "code",
        "colab": {
          "base_uri": "https://localhost:8080/",
          "height": 34
        },
        "outputId": "a2c44199-e971-46cb-8f12-e14468f85270"
      },
      "source": [
        "x_train.shape"
      ],
      "execution_count": 36,
      "outputs": [
        {
          "output_type": "execute_result",
          "data": {
            "text/plain": [
              "(60000, 28, 28)"
            ]
          },
          "metadata": {
            "tags": []
          },
          "execution_count": 36
        }
      ]
    },
    {
      "cell_type": "code",
      "metadata": {
        "id": "JGqLUhwnaVeW",
        "colab_type": "code",
        "colab": {}
      },
      "source": [
        "#Reshape the image to (1, 784)\n",
        "x_train = x_train.reshape(60000,784)\n",
        "x_test = x_test.reshape(10000,784)"
      ],
      "execution_count": 0,
      "outputs": []
    },
    {
      "cell_type": "code",
      "metadata": {
        "id": "YDHRONTfalOi",
        "colab_type": "code",
        "colab": {}
      },
      "source": [
        "#Flatenning the 28X28 image means one will follow the other 28 times both length and breadth wise.\n",
        "#ANN cannot handle data in 28X28 format it can only work with flattened data, so we need to reshape our whole data."
      ],
      "execution_count": 0,
      "outputs": []
    },
    {
      "cell_type": "code",
      "metadata": {
        "id": "qXSbw-2lbLlE",
        "colab_type": "code",
        "colab": {
          "base_uri": "https://localhost:8080/",
          "height": 34
        },
        "outputId": "90530506-ff6d-4520-9396-ff166b23cbbc"
      },
      "source": [
        "x_train.shape"
      ],
      "execution_count": 38,
      "outputs": [
        {
          "output_type": "execute_result",
          "data": {
            "text/plain": [
              "(60000, 784)"
            ]
          },
          "metadata": {
            "tags": []
          },
          "execution_count": 38
        }
      ]
    },
    {
      "cell_type": "code",
      "metadata": {
        "id": "FvT6BBtLbjiz",
        "colab_type": "code",
        "colab": {
          "base_uri": "https://localhost:8080/",
          "height": 34
        },
        "outputId": "d7423cf1-0851-4b18-95ae-3c14df3d9a37"
      },
      "source": [
        "x_test.shape"
      ],
      "execution_count": 39,
      "outputs": [
        {
          "output_type": "execute_result",
          "data": {
            "text/plain": [
              "(10000, 784)"
            ]
          },
          "metadata": {
            "tags": []
          },
          "execution_count": 39
        }
      ]
    },
    {
      "cell_type": "code",
      "metadata": {
        "id": "I7wrf9bnbnYm",
        "colab_type": "code",
        "colab": {}
      },
      "source": [
        "#We are reshaping our data in order to get 2D data"
      ],
      "execution_count": 0,
      "outputs": []
    },
    {
      "cell_type": "code",
      "metadata": {
        "id": "3c6V7hDBbsUs",
        "colab_type": "code",
        "colab": {}
      },
      "source": [
        "from keras.models import Sequential\n",
        "from keras.layers import Dense"
      ],
      "execution_count": 0,
      "outputs": []
    },
    {
      "cell_type": "code",
      "metadata": {
        "id": "rZQndfzgb4sq",
        "colab_type": "code",
        "colab": {}
      },
      "source": [
        "model = Sequential()\n",
        "model.add(Dense(units=32, activation='relu', input_shape = (784,)))#adding the first hidden layer\n",
        "#Ignore the input layer in model.add()\n",
        "model.add(Dense(units=64, activation='relu'))#relu function is used to increase the non-linearity\n",
        "#We may not add the input_shape parameter in the next layer, as it knows from the first layer, but is must for the first layer\n",
        "model.add(Dense(units=128, activation='relu'))\n",
        "model.add(Dense(units=32, activation='relu'))\n",
        "model.add(Dense(units=10, activation='softmax'))#final or the output layer"
      ],
      "execution_count": 0,
      "outputs": []
    },
    {
      "cell_type": "code",
      "metadata": {
        "id": "JXoseBAwdiP-",
        "colab_type": "code",
        "colab": {}
      },
      "source": [
        "#To convert values into probability, we use softmax function"
      ],
      "execution_count": 0,
      "outputs": []
    },
    {
      "cell_type": "code",
      "metadata": {
        "id": "Dw46Q9zZeSEE",
        "colab_type": "code",
        "colab": {
          "base_uri": "https://localhost:8080/",
          "height": 319
        },
        "outputId": "1d943905-17ac-4d4f-f454-e47cc9462c5d"
      },
      "source": [
        "model.summary()"
      ],
      "execution_count": 46,
      "outputs": [
        {
          "output_type": "stream",
          "text": [
            "Model: \"sequential_3\"\n",
            "_________________________________________________________________\n",
            "Layer (type)                 Output Shape              Param #   \n",
            "=================================================================\n",
            "dense_3 (Dense)              (None, 32)                25120     \n",
            "_________________________________________________________________\n",
            "dense_4 (Dense)              (None, 64)                2112      \n",
            "_________________________________________________________________\n",
            "dense_5 (Dense)              (None, 128)               8320      \n",
            "_________________________________________________________________\n",
            "dense_6 (Dense)              (None, 32)                4128      \n",
            "_________________________________________________________________\n",
            "dense_7 (Dense)              (None, 10)                330       \n",
            "=================================================================\n",
            "Total params: 40,010\n",
            "Trainable params: 40,010\n",
            "Non-trainable params: 0\n",
            "_________________________________________________________________\n"
          ],
          "name": "stdout"
        }
      ]
    },
    {
      "cell_type": "code",
      "metadata": {
        "id": "z7XvR-lneUUe",
        "colab_type": "code",
        "colab": {}
      },
      "source": [
        "model.compile(optimizer='adam', loss=\"categorical_crossentropy\", metrics=['accuracy'])#if there were only two classes then use binary_crossentropy in loss, but in case of multiple class classification use categorical_crossentropy, so binary_crossentropy is a sunset of categorical_crossentropy\n",
        "#adam, sgd, rmsprop->algorithms that we can use in optimizer section\n",
        "#Param is the weights associated.\n",
        "#It is not possible to do back propagation without knowing the output, so we first need to do forward propagation."
      ],
      "execution_count": 0,
      "outputs": []
    },
    {
      "cell_type": "code",
      "metadata": {
        "id": "DqUWtUqvf0j4",
        "colab_type": "code",
        "colab": {
          "base_uri": "https://localhost:8080/",
          "height": 34
        },
        "outputId": "bcd882bb-5270-41bd-9397-bcf0f00c18f7"
      },
      "source": [
        "y_train.shape"
      ],
      "execution_count": 48,
      "outputs": [
        {
          "output_type": "execute_result",
          "data": {
            "text/plain": [
              "(60000,)"
            ]
          },
          "metadata": {
            "tags": []
          },
          "execution_count": 48
        }
      ]
    },
    {
      "cell_type": "code",
      "metadata": {
        "id": "JMvvZGawf2tA",
        "colab_type": "code",
        "colab": {}
      },
      "source": [
        "#One Hot Encoding is very important while doing multi-class classification\n",
        "from keras.utils import to_categorical"
      ],
      "execution_count": 0,
      "outputs": []
    },
    {
      "cell_type": "code",
      "metadata": {
        "id": "hL47gG9mgPQg",
        "colab_type": "code",
        "colab": {}
      },
      "source": [
        "y_train = to_categorical(y_train)"
      ],
      "execution_count": 0,
      "outputs": []
    },
    {
      "cell_type": "code",
      "metadata": {
        "id": "QGhW81dZgVrT",
        "colab_type": "code",
        "colab": {}
      },
      "source": [
        "y_test = to_categorical(y_test)"
      ],
      "execution_count": 0,
      "outputs": []
    },
    {
      "cell_type": "code",
      "metadata": {
        "id": "4q5RvkoMgZCA",
        "colab_type": "code",
        "colab": {
          "base_uri": "https://localhost:8080/",
          "height": 34
        },
        "outputId": "9f8b8529-b552-469c-d9f6-92866714ce9b"
      },
      "source": [
        "y_train.shape"
      ],
      "execution_count": 52,
      "outputs": [
        {
          "output_type": "execute_result",
          "data": {
            "text/plain": [
              "(60000, 10)"
            ]
          },
          "metadata": {
            "tags": []
          },
          "execution_count": 52
        }
      ]
    },
    {
      "cell_type": "code",
      "metadata": {
        "id": "wvFY9c4Pgajs",
        "colab_type": "code",
        "colab": {
          "base_uri": "https://localhost:8080/",
          "height": 34
        },
        "outputId": "75b67f74-1af7-4d69-8b27-e24cd02aa0c6"
      },
      "source": [
        "y_test.shape"
      ],
      "execution_count": 54,
      "outputs": [
        {
          "output_type": "execute_result",
          "data": {
            "text/plain": [
              "(10000, 10)"
            ]
          },
          "metadata": {
            "tags": []
          },
          "execution_count": 54
        }
      ]
    },
    {
      "cell_type": "code",
      "metadata": {
        "id": "sqYTBqyIgcml",
        "colab_type": "code",
        "colab": {}
      },
      "source": [
        "#10 represents the unique number of classes, or the number of neurons in the output layer"
      ],
      "execution_count": 0,
      "outputs": []
    },
    {
      "cell_type": "code",
      "metadata": {
        "id": "L8gMyFLIgsu9",
        "colab_type": "code",
        "colab": {
          "base_uri": "https://localhost:8080/",
          "height": 370
        },
        "outputId": "393afe13-a0ef-4fc2-ae7d-79c8004061a8"
      },
      "source": [
        "hist = model.fit(x = x_train, y= y_train, batch_size = 32, epochs = 10, validation_data=(x_test, y_test))\n",
        "#model training can be done in the above way"
      ],
      "execution_count": 56,
      "outputs": [
        {
          "output_type": "stream",
          "text": [
            "Train on 60000 samples, validate on 10000 samples\n",
            "Epoch 1/10\n",
            "60000/60000 [==============================] - 4s 65us/step - loss: 0.9391 - accuracy: 0.7805 - val_loss: 0.3845 - val_accuracy: 0.8975\n",
            "Epoch 2/10\n",
            "60000/60000 [==============================] - 4s 59us/step - loss: 0.3185 - accuracy: 0.9107 - val_loss: 0.2470 - val_accuracy: 0.9297\n",
            "Epoch 3/10\n",
            "60000/60000 [==============================] - 3s 58us/step - loss: 0.2428 - accuracy: 0.9312 - val_loss: 0.2295 - val_accuracy: 0.9356\n",
            "Epoch 4/10\n",
            "60000/60000 [==============================] - 3s 58us/step - loss: 0.2052 - accuracy: 0.9420 - val_loss: 0.2036 - val_accuracy: 0.9413\n",
            "Epoch 5/10\n",
            "60000/60000 [==============================] - 4s 59us/step - loss: 0.1806 - accuracy: 0.9484 - val_loss: 0.1882 - val_accuracy: 0.9480\n",
            "Epoch 6/10\n",
            "60000/60000 [==============================] - 3s 58us/step - loss: 0.1627 - accuracy: 0.9531 - val_loss: 0.1693 - val_accuracy: 0.9545\n",
            "Epoch 7/10\n",
            "60000/60000 [==============================] - 3s 58us/step - loss: 0.1477 - accuracy: 0.9571 - val_loss: 0.1691 - val_accuracy: 0.9547\n",
            "Epoch 8/10\n",
            "60000/60000 [==============================] - 3s 58us/step - loss: 0.1350 - accuracy: 0.9608 - val_loss: 0.1616 - val_accuracy: 0.9533\n",
            "Epoch 9/10\n",
            "60000/60000 [==============================] - 3s 58us/step - loss: 0.1299 - accuracy: 0.9627 - val_loss: 0.1823 - val_accuracy: 0.9536\n",
            "Epoch 10/10\n",
            "60000/60000 [==============================] - 4s 59us/step - loss: 0.1186 - accuracy: 0.9652 - val_loss: 0.1635 - val_accuracy: 0.9597\n"
          ],
          "name": "stdout"
        }
      ]
    },
    {
      "cell_type": "code",
      "metadata": {
        "id": "fAmvyYQqhg5b",
        "colab_type": "code",
        "colab": {}
      },
      "source": [
        "#loss is decreasing, and the accuracy and validation accuracy is increasing with every iteration, until it reaches a saturation\n",
        "#batch_size = 32 example in 1 iteration\n",
        "#epochs = 10 means 10 iterations(# of iterations)"
      ],
      "execution_count": 0,
      "outputs": []
    },
    {
      "cell_type": "code",
      "metadata": {
        "id": "-nLGHN8QiOZ_",
        "colab_type": "code",
        "colab": {
          "base_uri": "https://localhost:8080/",
          "height": 50
        },
        "outputId": "570c0b69-d7cc-41c0-b978-abe4302ae430"
      },
      "source": [
        "model.evaluate(x_test, y_test)"
      ],
      "execution_count": 58,
      "outputs": [
        {
          "output_type": "stream",
          "text": [
            "10000/10000 [==============================] - 0s 23us/step\n"
          ],
          "name": "stdout"
        },
        {
          "output_type": "execute_result",
          "data": {
            "text/plain": [
              "[0.16348506384557113, 0.9596999883651733]"
            ]
          },
          "metadata": {
            "tags": []
          },
          "execution_count": 58
        }
      ]
    },
    {
      "cell_type": "code",
      "metadata": {
        "id": "GZ0eCrmdiRiI",
        "colab_type": "code",
        "colab": {}
      },
      "source": [
        "#This means out of 10000 images 9600 images are being predicted correctly."
      ],
      "execution_count": 0,
      "outputs": []
    },
    {
      "cell_type": "code",
      "metadata": {
        "id": "MPjJLZ2Iigu6",
        "colab_type": "code",
        "colab": {
          "base_uri": "https://localhost:8080/",
          "height": 265
        },
        "outputId": "7a22e9fe-8376-4b1b-9c74-97421c286082"
      },
      "source": [
        "plot_img(x_test[5001])"
      ],
      "execution_count": 65,
      "outputs": [
        {
          "output_type": "display_data",
          "data": {
            "image/png": "[encoded data removed]",
            "text/plain": [
              "<Figure size 432x288 with 1 Axes>"
            ]
          },
          "metadata": {
            "tags": [],
            "needs_background": "light"
          }
        }
      ]
    },
    {
      "cell_type": "code",
      "metadata": {
        "id": "IOSqelqEimJt",
        "colab_type": "code",
        "colab": {}
      },
      "source": [
        "y_pred = model.predict_classes(x_test)"
      ],
      "execution_count": 0,
      "outputs": []
    },
    {
      "cell_type": "code",
      "metadata": {
        "id": "QlCni4zEjECi",
        "colab_type": "code",
        "colab": {
          "base_uri": "https://localhost:8080/",
          "height": 34
        },
        "outputId": "04fa6686-0b70-4274-a141-da84707c1f46"
      },
      "source": [
        "y_pred[5001]"
      ],
      "execution_count": 68,
      "outputs": [
        {
          "output_type": "execute_result",
          "data": {
            "text/plain": [
              "9"
            ]
          },
          "metadata": {
            "tags": []
          },
          "execution_count": 68
        }
      ]
    },
    {
      "cell_type": "code",
      "metadata": {
        "id": "QK89eQqLjMVO",
        "colab_type": "code",
        "colab": {
          "base_uri": "https://localhost:8080/",
          "height": 34
        },
        "outputId": "8722b477-35c1-4b87-a2c6-3d533b50abd7"
      },
      "source": [
        "model.predict_classes(x_test[[5000]])"
      ],
      "execution_count": 69,
      "outputs": [
        {
          "output_type": "execute_result",
          "data": {
            "text/plain": [
              "array([3])"
            ]
          },
          "metadata": {
            "tags": []
          },
          "execution_count": 69
        }
      ]
    },
    {
      "cell_type": "code",
      "metadata": {
        "id": "VumWRgrqjhuv",
        "colab_type": "code",
        "colab": {}
      },
      "source": [
        "#Both the ways above can be used to predict the model"
      ],
      "execution_count": 0,
      "outputs": []
    },
    {
      "cell_type": "code",
      "metadata": {
        "id": "YgYdHX9Tjm2b",
        "colab_type": "code",
        "colab": {}
      },
      "source": [
        "#Upload your own images and predict for that code:\n",
        "#this code is custom image."
      ],
      "execution_count": 0,
      "outputs": []
    },
    {
      "cell_type": "code",
      "metadata": {
        "id": "0xPt-6xQjx2u",
        "colab_type": "code",
        "colab": {}
      },
      "source": [
        "from keras.preprocessing import image"
      ],
      "execution_count": 0,
      "outputs": []
    },
    {
      "cell_type": "code",
      "metadata": {
        "id": "NfzGL9rokDXd",
        "colab_type": "code",
        "colab": {}
      },
      "source": [
        "img = image.load_img(\"name.png\", grayscale=True, target_size=(28,28))\n",
        "img = np.array(img)\n",
        "img = img.reshape(1,784)\n",
        "\n",
        "prediction = model.predict_classes(img)"
      ],
      "execution_count": 0,
      "outputs": []
    },
    {
      "cell_type": "code",
      "metadata": {
        "id": "j7zMH-x-l9bU",
        "colab_type": "code",
        "colab": {}
      },
      "source": [
        "prediction"
      ],
      "execution_count": 0,
      "outputs": []
    }
  ]
}